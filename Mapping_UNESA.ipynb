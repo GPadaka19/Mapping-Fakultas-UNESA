{
  "nbformat": 4,
  "nbformat_minor": 0,
  "metadata": {
    "colab": {
      "provenance": []
    },
    "kernelspec": {
      "name": "python3",
      "display_name": "Python 3"
    },
    "language_info": {
      "name": "python"
    }
  },
  "cells": [
    {
      "cell_type": "code",
      "execution_count": 10,
      "metadata": {
        "colab": {
          "base_uri": "https://localhost:8080/"
        },
        "id": "iK9eD6Yo5bSL",
        "outputId": "04ce8cc8-d1e4-423f-e260-c79beb7d6e1c"
      },
      "outputs": [
        {
          "output_type": "stream",
          "name": "stdout",
          "text": [
            "   File Number          Timestamp                   Nama Lengkap  NIM  \\\n",
            "0            1   3/9/2024 9:06:02                   Rifda Amelia  NaN   \n",
            "1            1   3/9/2024 9:18:29          NABIEL FAWWAZIL ADHIM  NaN   \n",
            "2            1  3/9/2024 10:58:38  ALEXANDRA AYU FIRNANDA WIBOWO  NaN   \n",
            "3            1  3/9/2024 14:58:18       SITI FAUZIAH AYU PUSPITA  NaN   \n",
            "4            1   3/9/2024 9:11:40                  ECHA ROSYIDAH  NaN   \n",
            "\n",
            "          Fakultas Alamat email Akun AWS Skill Builder    Room  \n",
            "0  BAHASA DAN SENI               rifdaamel21@gmail.com  Room A  \n",
            "1  BAHASA DAN SENI        nabiel.21085@mhs.unesa.ac.id  Room E  \n",
            "2  BAHASA DAN SENI     alexandra.21024@mhs.unesa.ac.id  Room O  \n",
            "3  BAHASA DAN SENI              fauziahkai01@gmail.com  Room F  \n",
            "4  BAHASA DAN SENI            echarosyidah82@gmail.com  Room E  \n"
          ]
        }
      ],
      "source": [
        "import pandas as pd\n",
        "\n",
        "# Read the CSV file from the specified path\n",
        "df = pd.read_csv('/content/dataset.csv')\n",
        "\n",
        "# Print the DataFrame (optional)\n",
        "print(df.head())"
      ]
    },
    {
      "cell_type": "code",
      "source": [
        "if 'Status' in df.columns:\n",
        "  df = df.drop('Status', axis=1)\n",
        "\n",
        "print(df.head())"
      ],
      "metadata": {
        "colab": {
          "base_uri": "https://localhost:8080/"
        },
        "id": "Rz4mRxJltxH9",
        "outputId": "192fea48-bba5-4949-e9d8-27dc11f0d1f9"
      },
      "execution_count": 11,
      "outputs": [
        {
          "output_type": "stream",
          "name": "stdout",
          "text": [
            "   File Number          Timestamp                   Nama Lengkap  NIM  \\\n",
            "0            1   3/9/2024 9:06:02                   Rifda Amelia  NaN   \n",
            "1            1   3/9/2024 9:18:29          NABIEL FAWWAZIL ADHIM  NaN   \n",
            "2            1  3/9/2024 10:58:38  ALEXANDRA AYU FIRNANDA WIBOWO  NaN   \n",
            "3            1  3/9/2024 14:58:18       SITI FAUZIAH AYU PUSPITA  NaN   \n",
            "4            1   3/9/2024 9:11:40                  ECHA ROSYIDAH  NaN   \n",
            "\n",
            "          Fakultas Alamat email Akun AWS Skill Builder    Room  \n",
            "0  BAHASA DAN SENI               rifdaamel21@gmail.com  Room A  \n",
            "1  BAHASA DAN SENI        nabiel.21085@mhs.unesa.ac.id  Room E  \n",
            "2  BAHASA DAN SENI     alexandra.21024@mhs.unesa.ac.id  Room O  \n",
            "3  BAHASA DAN SENI              fauziahkai01@gmail.com  Room F  \n",
            "4  BAHASA DAN SENI            echarosyidah82@gmail.com  Room E  \n"
          ]
        }
      ]
    },
    {
      "cell_type": "code",
      "source": [
        "# Define the mapping dictionary\n",
        "mapping = {\n",
        "    \"Bahasa dan Seni\": [\n",
        "        \"BAHASA DAN SENI\",\n",
        "        \"PENDIDIKAN BAHASA MANDARIN\",\n",
        "        \"PENDIDIKAN BAHASA MANDARIN \",\n",
        "        \"MANDARIN\",\n",
        "        \"P.BAHASA MANDARIN \",\n",
        "        \"PEND. BAHASA MANDARIN\",\n",
        "        \"PENDIDIKAN BAHASA JEPANG \",\n",
        "        \"PENDIDIKAN BAHASA JERMAN \",\n",
        "        \"S1 PENDIDIKAN BAHASA DAN SASTRA INDONESIA \",\n",
        "        \"S1 PENDIDIKAN BAHASA MANDARIN\",\n",
        "        \"S1 PENDIDIKAN SENDRATASIK\",\n",
        "        \"SASTRA INDONESIA\"\n",
        "    ],\n",
        "    \"Ekonomika dan Bisnis\": [\n",
        "        \"EKONOMIKA DAN BISNIS\",\n",
        "        \"ILMU EKONOMI/EKONOMI ISLAM\",\n",
        "        \"ILMU EKONOMI/ EKONOMI\",\n",
        "        \"PENDIDIKAN EKONOMI/PENDIDIKAN AKUNTANSI \",\n",
        "        \"PENDIDIKAN EKONOMI/S1 PENDIDIKAN EKONOMI\",\n",
        "        \"S1 AKUNTANSI \",\n",
        "        \"S1 MANAJEMEN\"\n",
        "    ],\n",
        "    \"Hukum\": [\n",
        "        \"HUKUM\",\n",
        "        \"ILMU HUKUM\",\n",
        "        \"S1 ILMU HUKUM\",\n",
        "        \"ILMU HUKUM \",\n",
        "        \"S1 ILMU HUKUM \"\n",
        "    ],\n",
        "    \"Ilmu Keolahragaan Dan Kesehatan\": [\n",
        "        \"ILMU KEOLAHRAGAAN DAN KESEHATAN\",\n",
        "        \"ILMU KEOLAHRAGAAN\",\n",
        "        \"PENDIDIKAN REKREASI DAN KESEHATAN/S1 ILMU KEOLAHRAGAAN\",\n",
        "        \"PKO\",\n",
        "        \"PSIKOLOGI OLAHRAGA\",\n",
        "        \"S1 ILMU KEOLAHRAGAAN\",\n",
        "        \"S1 PENDIDIKAN KEPELATIHAN OLAHRAGA \"\n",
        "    ],\n",
        "    \"Ilmu Pendidikan\": [\n",
        "        \"ILMU PENDIDIKAN\",\n",
        "        \"PENDIDIKAN GURU SEKOLAH DASAR\",\n",
        "        \"PENDIDIKAN LUAR BIASA \",\n",
        "        \"PGSD\",\n",
        "        \"S1 PG PAUD\",\n",
        "        \"TEKNOLOGI PENDIDIKAN\"\n",
        "    ],\n",
        "    \"Ilmu Sosial\": [\n",
        "        \"ILMU SOSIAL\",\n",
        "        \"ILMU SOSIAL DAN HUKUM\",\n",
        "        \"ILMU SOSIAL DAN ILMU POLITIK\",\n",
        "        \"S1 PENDIDIKAN SEJARAH\",\n",
        "        \"ILMU ADMINISTRASI NEGARA\",\n",
        "        \"ILMU KOMUNIKASI\",\n",
        "        \"PENDIDIKAN SEJARAH \",\n",
        "        \"S1 ILMU ADMINISTRASI NEGARA \",\n",
        "        \"ILMU ADMINISTRASI NEGARA \",\n",
        "        \"ILMU KOMUNIKASI \",\n",
        "        \"ILMU SOSIAL DAN POLITIK\",\n",
        "        \"ILMU SOSIAL/ILMU KOMUNIKASI\",\n",
        "        \"PEND.SEJARAH\",\n",
        "        \"PENDIDIKAN GEOGRAFI\",\n",
        "        \"PENDIDIKAN PANCASILA DAN KEWARGANEGARAAN \",\n",
        "        \"PENDIDIKAN SEJARAH\",\n",
        "        \"PMPKN/S1 PPKN\",\n",
        "        \"S1 ILMU ADMINISTRASI NEGARA\",\n",
        "        \"S1 PENDIDIKAN SEJARAH \",\n",
        "        \"SEJARAH\",\n",
        "        \"SEJARAH/S1 PENDIDIKAN SEJARAH \"\n",
        "    ],\n",
        "    \"Kedokteran\": [\n",
        "        \"KEDOKTERAN\"\n",
        "    ],\n",
        "    \"Matematika dan Ilmu Pengetahuan Alam\": [\n",
        "        \"MATEMATIKA DAN ILMU PENGETAHUAN ALAM\",\n",
        "        \"MATEMATIKA\",\n",
        "        \"KIMIA/S-1 KIMIA\",\n",
        "        \"MATEMATIKA/PENDIDIKAN MATEMATIKA \",\n",
        "        \"PENDIDIKAN IPA\",\n",
        "        \"PENDIDIKAN KIMIA\",\n",
        "        \"PENDIDIKAN KIMIA 2023\",\n",
        "        \"PENDIDIKAN SAINS\",\n",
        "        \"S1 BIOLOGI\",\n",
        "        \"S1 BIOLOGI \",\n",
        "        \"S1 MATEMATIKA \",\n",
        "        \"S1 PENDIDIKAN BIOLOGI\"\n",
        "    ],\n",
        "    \"PASCASARJANA\": [\n",
        "        \"PASCASARJANA\"\n",
        "    ],\n",
        "    \"Psikologi\": [\n",
        "        \"PSIKOLOGI\",\n",
        "        \"S1-PSIKOLOGI\"\n",
        "    ],\n",
        "    \"Teknik\": [\n",
        "        \"TEKNIK\",\n",
        "        \"PENDIDIKAN TEKNIK MESIN\",\n",
        "        \"PENDIDIKAN TEKNIK MESIN \",\n",
        "        \"S1 PENDIDIKAN TEKNIK MESIN\",\n",
        "        \"TEKNIK INFORMATIKA\",\n",
        "        \"PEND. TEKNIK MESIN\",\n",
        "        \"S1 TEKNIK ELEKTRO\",\n",
        "        \"SISTEM INFORMASI\",\n",
        "        \"PENDIDIKAN TEKNIK ELEKTRO \",\n",
        "        \"PENDIDIKAN TEKNIK MESIN A\",\n",
        "        \"S1 PENDIDIKAN TEKNIK MESIN 2023\",\n",
        "        \"S1 TEKNIK INFORMATIKA\",\n",
        "        \"S1-PENDIDIKAN TEKNIK MESIN\",\n",
        "        \"SAINS DATA\",\n",
        "        \"SAINS DATA \",\n",
        "        \"TEHNIK LISTRIK\",\n",
        "        \"TEKNIK ELEKTRO\",\n",
        "        \"TEKNIK INFORMATIKA/S1 TEKNIK INFORMATIKA\",\n",
        "        \"TEKNIK LISTRIK\",\n",
        "        \"TEKNIK MESIN/PENDIDIKAN TEKNIK MESIN\"\n",
        "    ],\n",
        "    \"Vokasi\": [\n",
        "        \"VOKASI\",\n",
        "        \"TRANSPORTASI \"\n",
        "    ]\n",
        "}\n",
        "\n",
        "# Create a reverse mapping for efficient replacement\n",
        "reverse_mapping = {}\n",
        "for standard, variations in mapping.items():\n",
        "    for variation in variations:\n",
        "        reverse_mapping[variation.strip()] = standard\n",
        "\n",
        "# Replace the values in the \"Fakultas\" column\n",
        "df['Fakultas'] = df['Fakultas'].replace(reverse_mapping)\n",
        "\n",
        "# Save the cleaned DataFrame to a new CSV file\n",
        "df.to_csv('data_cleaned.csv', index=False)\n",
        "\n",
        "# Print the cleaned DataFrame (optional)\n",
        "print(df.head())"
      ],
      "metadata": {
        "colab": {
          "base_uri": "https://localhost:8080/"
        },
        "id": "dcQp7wFct5fB",
        "outputId": "0329c16d-cf2a-4907-a36c-17fd5ce2575c"
      },
      "execution_count": 12,
      "outputs": [
        {
          "output_type": "stream",
          "name": "stdout",
          "text": [
            "   File Number          Timestamp                   Nama Lengkap  NIM  \\\n",
            "0            1   3/9/2024 9:06:02                   Rifda Amelia  NaN   \n",
            "1            1   3/9/2024 9:18:29          NABIEL FAWWAZIL ADHIM  NaN   \n",
            "2            1  3/9/2024 10:58:38  ALEXANDRA AYU FIRNANDA WIBOWO  NaN   \n",
            "3            1  3/9/2024 14:58:18       SITI FAUZIAH AYU PUSPITA  NaN   \n",
            "4            1   3/9/2024 9:11:40                  ECHA ROSYIDAH  NaN   \n",
            "\n",
            "          Fakultas Alamat email Akun AWS Skill Builder    Room  \n",
            "0  Bahasa dan Seni               rifdaamel21@gmail.com  Room A  \n",
            "1  Bahasa dan Seni        nabiel.21085@mhs.unesa.ac.id  Room E  \n",
            "2  Bahasa dan Seni     alexandra.21024@mhs.unesa.ac.id  Room O  \n",
            "3  Bahasa dan Seni              fauziahkai01@gmail.com  Room F  \n",
            "4  Bahasa dan Seni            echarosyidah82@gmail.com  Room E  \n"
          ]
        }
      ]
    },
    {
      "cell_type": "code",
      "source": [
        "df.to_csv('data_cleaned.csv', index=False)"
      ],
      "metadata": {
        "id": "WSXXPvjB6E6R"
      },
      "execution_count": 13,
      "outputs": []
    }
  ]
}